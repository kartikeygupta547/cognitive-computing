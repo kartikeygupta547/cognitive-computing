{
  "nbformat": 4,
  "nbformat_minor": 0,
  "metadata": {
    "colab": {
      "provenance": [],
      "authorship_tag": "ABX9TyP0kOpdwLS6mEbLNRGLzKU0",
      "include_colab_link": true
    },
    "kernelspec": {
      "name": "python3",
      "display_name": "Python 3"
    },
    "language_info": {
      "name": "python"
    }
  },
  "cells": [
    {
      "cell_type": "markdown",
      "metadata": {
        "id": "view-in-github",
        "colab_type": "text"
      },
      "source": [
        "<a href=\"https://colab.research.google.com/github/kartikeygupta547/cognitive-computing/blob/main/Assignment1.ipynb\" target=\"_parent\"><img src=\"https://colab.research.google.com/assets/colab-badge.svg\" alt=\"Open In Colab\"/></a>"
      ]
    },
    {
      "cell_type": "markdown",
      "source": [
        "Assignment 1 1.1-:"
      ],
      "metadata": {
        "id": "8lcNeqaHoghY"
      }
    },
    {
      "cell_type": "code",
      "source": [
        "for i in range(1,4):\n",
        "  print(\"Kartikey\")"
      ],
      "metadata": {
        "colab": {
          "base_uri": "https://localhost:8080/"
        },
        "id": "PpZBK1o5oqgI",
        "outputId": "36ca6dee-f8b8-407c-c382-def1bfd79e81"
      },
      "execution_count": 3,
      "outputs": [
        {
          "output_type": "stream",
          "name": "stdout",
          "text": [
            "Kartikey\n",
            "Kartikey\n",
            "Kartikey\n"
          ]
        }
      ]
    },
    {
      "cell_type": "markdown",
      "source": [
        "Assignment 2\n",
        "\n",
        "2.1-:"
      ],
      "metadata": {
        "id": "vl_BzhfcoyEA"
      }
    },
    {
      "cell_type": "code",
      "source": [
        "num1=int(input(\"Enter first number:\"))\n",
        "num2=int(input(\"Enter second number:\"))\n",
        "num3=int(input(\"Enter third number:\"))\n",
        "sum=num1+num2+num3\n",
        "print(sum)"
      ],
      "metadata": {
        "colab": {
          "base_uri": "https://localhost:8080/"
        },
        "id": "PwR1jEr2o1XJ",
        "outputId": "9349eaae-c973-43cf-c8d1-1d7bf54ed75c"
      },
      "execution_count": 4,
      "outputs": [
        {
          "output_type": "stream",
          "name": "stdout",
          "text": [
            "Enter first number:30\n",
            "Enter second number:40\n",
            "Enter third number:50\n",
            "120\n"
          ]
        }
      ]
    },
    {
      "cell_type": "markdown",
      "source": [
        "EX-2.2"
      ],
      "metadata": {
        "id": "fpRuXv2Io_bY"
      }
    },
    {
      "cell_type": "code",
      "source": [
        "string1=input(\"Enter first string:\")\n",
        "string2=input(\"Enter second string:\")\n",
        "string3=input(\"Enter third string:\")\n",
        "final=string1+\" \"+string2+\" \"+string3\n",
        "print(final)\n",
        ""
      ],
      "metadata": {
        "colab": {
          "base_uri": "https://localhost:8080/"
        },
        "id": "Pjt7K1JqpFJH",
        "outputId": "6dcb1d51-096f-4615-819d-ce32b545f5fa"
      },
      "execution_count": 7,
      "outputs": [
        {
          "output_type": "stream",
          "name": "stdout",
          "text": [
            "Enter first string:UCS\n",
            "Enter second string:420\n",
            "Enter third string:Cognitive Computing\n",
            "UCS 420 Cognitive Computing\n"
          ]
        }
      ]
    },
    {
      "cell_type": "markdown",
      "source": [
        "Assignment 4\n",
        "\n",
        "EX-4.1"
      ],
      "metadata": {
        "id": "_9NQLonhquFX"
      }
    },
    {
      "cell_type": "code",
      "source": [
        "\n",
        "for i in range(1,11):\n",
        "  print(f\"8 x {i}={8*i}\")"
      ],
      "metadata": {
        "colab": {
          "base_uri": "https://localhost:8080/"
        },
        "id": "XbeccMV1qwwm",
        "outputId": "cd85ee65-7fc1-4b55-e834-f9eaef79db1c"
      },
      "execution_count": 8,
      "outputs": [
        {
          "output_type": "stream",
          "name": "stdout",
          "text": [
            "8 x 1=8\n",
            "8 x 2=16\n",
            "8 x 3=24\n",
            "8 x 4=32\n",
            "8 x 5=40\n",
            "8 x 6=48\n",
            "8 x 7=56\n",
            "8 x 8=64\n",
            "8 x 9=72\n",
            "8 x 10=80\n"
          ]
        }
      ]
    },
    {
      "cell_type": "code",
      "source": [
        "for i in range(1,11):\n",
        "  print(f\"10 x {i}={10*i}\")"
      ],
      "metadata": {
        "colab": {
          "base_uri": "https://localhost:8080/"
        },
        "id": "KPAcFwQaq8j_",
        "outputId": "32f1d887-a82a-46bf-df63-f0e0c100a58f"
      },
      "execution_count": 9,
      "outputs": [
        {
          "output_type": "stream",
          "name": "stdout",
          "text": [
            "10 x 1=10\n",
            "10 x 2=20\n",
            "10 x 3=30\n",
            "10 x 4=40\n",
            "10 x 5=50\n",
            "10 x 6=60\n",
            "10 x 7=70\n",
            "10 x 8=80\n",
            "10 x 9=90\n",
            "10 x 10=100\n"
          ]
        }
      ]
    },
    {
      "cell_type": "markdown",
      "source": [
        "EX-4.2"
      ],
      "metadata": {
        "id": "Y7ZJSdRiq_pN"
      }
    },
    {
      "cell_type": "code",
      "source": [
        "n=int(input(\"Enter n:\"))\n",
        "for i in range(1,11):\n",
        "  print(f\"{n} x {i}={n*i}\")\n"
      ],
      "metadata": {
        "colab": {
          "base_uri": "https://localhost:8080/"
        },
        "id": "6fXluouFrFB2",
        "outputId": "ebea4632-9f15-4d3d-c218-6fa4893d4a42"
      },
      "execution_count": 10,
      "outputs": [
        {
          "output_type": "stream",
          "name": "stdout",
          "text": [
            "Enter n:34\n",
            "34 x 1=34\n",
            "34 x 2=68\n",
            "34 x 3=102\n",
            "34 x 4=136\n",
            "34 x 5=170\n",
            "34 x 6=204\n",
            "34 x 7=238\n",
            "34 x 8=272\n",
            "34 x 9=306\n",
            "34 x 10=340\n"
          ]
        }
      ]
    },
    {
      "cell_type": "markdown",
      "source": [
        "EX-4.3"
      ],
      "metadata": {
        "id": "kpc9VxYlrLUF"
      }
    },
    {
      "cell_type": "code",
      "source": [
        "n=int(input(\"Enter n:\"))\n",
        "sum=0\n",
        "for i in range(1,n+1):\n",
        "  sum+=i\n",
        "print(sum)"
      ],
      "metadata": {
        "colab": {
          "base_uri": "https://localhost:8080/"
        },
        "id": "SLgJEuKVrOT2",
        "outputId": "783752b4-a3ea-49aa-f50a-e4837422e50c"
      },
      "execution_count": 11,
      "outputs": [
        {
          "output_type": "stream",
          "name": "stdout",
          "text": [
            "Enter n:5\n",
            "15\n"
          ]
        }
      ]
    },
    {
      "cell_type": "code",
      "source": [
        "Assignment 5\n",
        "\n",
        "EX-5.1"
      ],
      "metadata": {
        "id": "wioYh-UrrYUW"
      },
      "execution_count": null,
      "outputs": []
    },
    {
      "cell_type": "code",
      "source": [
        "num1=int(input(\"Enter first number:\"))\n",
        "num2=int(input(\"Enter second number:\"))\n",
        "num3=int(input(\"Enter third number:\"))\n",
        "'''\n",
        "if(num1>num2 and num1>num3):\n",
        "  print(\"Maximum is number 1\")\n",
        "elif(num2>num1 and num2>num3):\n",
        "  print(\"Maximum is number 2\")\n",
        "else:\n",
        "  print(\"Maximum is number 3\")\n",
        "'''\n",
        "ans=max(num1,num2,num3)\n",
        "print(\"Maxmium number is\",ans)\n"
      ],
      "metadata": {
        "colab": {
          "base_uri": "https://localhost:8080/"
        },
        "id": "n5jejmLJrahO",
        "outputId": "81152617-6ef4-440f-e03f-6b5c47ab557a"
      },
      "execution_count": 15,
      "outputs": [
        {
          "output_type": "stream",
          "name": "stdout",
          "text": [
            "Enter first number:30\n",
            "Enter second number:45\n",
            "Enter third number:50\n",
            "Maxmium number is 50\n"
          ]
        }
      ]
    },
    {
      "cell_type": "markdown",
      "source": [
        "EX-5.2\n"
      ],
      "metadata": {
        "id": "Q_j6TK5Arx3d"
      }
    },
    {
      "cell_type": "code",
      "source": [
        "n=int(input(\"Enter n:\"))\n",
        "for i in range(1,n+1):\n",
        "  if(i%7==0 and i%9==0):\n",
        "    print(\"DIVISIBLE BY BOTH 7 AND 9\",i)\n",
        ""
      ],
      "metadata": {
        "colab": {
          "base_uri": "https://localhost:8080/"
        },
        "id": "zmooy9Yir00v",
        "outputId": "63e787be-fd28-42c8-cc08-ad0dd42ce87e"
      },
      "execution_count": 20,
      "outputs": [
        {
          "output_type": "stream",
          "name": "stdout",
          "text": [
            "Enter n:63\n",
            "DIVISIBLE BY BOTH 7 AND 9 63\n"
          ]
        }
      ]
    },
    {
      "cell_type": "markdown",
      "source": [
        "EX-5.3\n"
      ],
      "metadata": {
        "id": "Eu1RpfIPsWJL"
      }
    },
    {
      "cell_type": "code",
      "source": [
        "\n",
        "n = int(input(\"Enter n: \"))\n",
        "\n",
        "def is_prime(num):\n",
        "    if num <= 1:\n",
        "        return False\n",
        "    for i in range(2, int(num ** 0.5) + 1):\n",
        "        if num % i == 0:\n",
        "            return False\n",
        "    return True\n",
        "\n",
        "sum_primes = 0\n",
        "for i in range(2, n + 1):\n",
        "    if is_prime(i):\n",
        "        sum_primes += i\n",
        "\n",
        "print(sum_primes)\n"
      ],
      "metadata": {
        "colab": {
          "base_uri": "https://localhost:8080/"
        },
        "id": "7pQMBEixsYUl",
        "outputId": "529592a0-9c96-4781-9e2a-1ad2a12d574c"
      },
      "execution_count": 21,
      "outputs": [
        {
          "output_type": "stream",
          "name": "stdout",
          "text": [
            "Enter n: 54\n",
            "381\n"
          ]
        }
      ]
    },
    {
      "cell_type": "markdown",
      "source": [
        "ASSIGNMENT 6\n",
        "\n",
        "EX-6.1"
      ],
      "metadata": {
        "id": "FHdD9zD9ssLc"
      }
    },
    {
      "cell_type": "code",
      "source": [
        "n = int(input(\"Enter n: \"))\n",
        "def add_odd(sum,n):\n",
        "  for i in range(1,n+1):\n",
        "    if(i%2!=0):\n",
        "      sum+=i\n",
        "  return sum\n",
        "sum=0\n",
        "ans=add_odd(sum,n)\n",
        "print(f\"Sum of all odd numbers from 1 to {n} is {ans}\")"
      ],
      "metadata": {
        "colab": {
          "base_uri": "https://localhost:8080/"
        },
        "id": "lOy7u5wVszO0",
        "outputId": "a081346f-a385-4878-cdc4-64f35977ec42"
      },
      "execution_count": 22,
      "outputs": [
        {
          "output_type": "stream",
          "name": "stdout",
          "text": [
            "Enter n: 10\n",
            "Sum of all odd numbers from 1 to 10 is 25\n"
          ]
        }
      ]
    },
    {
      "cell_type": "markdown",
      "source": [
        "EX-6.2"
      ],
      "metadata": {
        "id": "abV2JyVSs7p0"
      }
    },
    {
      "cell_type": "code",
      "source": [
        "n = int(input(\"Enter n: \"))\n",
        "\n",
        "def is_prime(num):\n",
        "    if num <= 1:\n",
        "        return False\n",
        "    for i in range(2, int(num ** 0.5) + 1):\n",
        "        if num % i == 0:\n",
        "            return False\n",
        "    return True\n",
        "\n",
        "def add_prime(sum,i):\n",
        "  sum+=i\n",
        "  return sum\n",
        "\n",
        "sum=0\n",
        "for i in range(2,n+1):\n",
        "  if(is_prime(i)):\n",
        "    sum=add_prime(sum,i)\n",
        "\n",
        "print(sum)"
      ],
      "metadata": {
        "colab": {
          "base_uri": "https://localhost:8080/"
        },
        "id": "_R6SGzMXs9ns",
        "outputId": "73eee731-366b-4cad-bb40-280b36438560"
      },
      "execution_count": 23,
      "outputs": [
        {
          "output_type": "stream",
          "name": "stdout",
          "text": [
            "Enter n: 10\n",
            "17\n"
          ]
        }
      ]
    }
  ]
}