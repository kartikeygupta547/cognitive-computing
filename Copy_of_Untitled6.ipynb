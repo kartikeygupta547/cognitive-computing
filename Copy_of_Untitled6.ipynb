{
  "nbformat": 4,
  "nbformat_minor": 0,
  "metadata": {
    "colab": {
      "provenance": [],
      "authorship_tag": "ABX9TyNZUdifbQewuswUpL19GB2y",
      "include_colab_link": true
    },
    "kernelspec": {
      "name": "python3",
      "display_name": "Python 3"
    },
    "language_info": {
      "name": "python"
    }
  },
  "cells": [
    {
      "cell_type": "markdown",
      "metadata": {
        "id": "view-in-github",
        "colab_type": "text"
      },
      "source": [
        "<a href=\"https://colab.research.google.com/github/kartikeygupta547/cognitive-computing/blob/main/Copy_of_Untitled6.ipynb\" target=\"_parent\"><img src=\"https://colab.research.google.com/assets/colab-badge.svg\" alt=\"Open In Colab\"/></a>"
      ]
    },
    {
      "cell_type": "markdown",
      "source": [
        "Q.1 Write a program to create a NumPy 1D-array with 5 elements and perform basic\n",
        "operations like:\n",
        "\n",
        "a) Addition of 2 in all the element\n",
        "\n",
        "b) Multiply 3 with all the elements\n",
        "\n",
        "c) Divide every element by 2"
      ],
      "metadata": {
        "id": "vfnImvNzc53P"
      }
    },
    {
      "cell_type": "code",
      "source": [
        "import numpy as np\n",
        "\n",
        "arr = np.array([1, 2, 3, 4, 5])\n",
        "arr2 = arr + 2\n",
        "print(\"Original array:\", arr)\n",
        "print(\"Array after adding 2:\", arr2)\n",
        "arr3 = arr * 3\n",
        "print(\"Array after multiplying by 2:\", arr3)\n",
        "arr4 = arr / 2\n",
        "print(\"Array after dividing by 2:\", arr4)"
      ],
      "metadata": {
        "colab": {
          "base_uri": "https://localhost:8080/"
        },
        "id": "lRVkRkOXX6rb",
        "outputId": "1ec732c7-590b-43b8-fbeb-a189953067cc"
      },
      "execution_count": null,
      "outputs": [
        {
          "output_type": "stream",
          "name": "stdout",
          "text": [
            "Original array: [1 2 3 4 5]\n",
            "Array after adding 2: [3 4 5 6 7]\n",
            "Array after multiplying by 2: [ 3  6  9 12 15]\n",
            "Array after dividing by 2: [0.5 1.  1.5 2.  2.5]\n"
          ]
        }
      ]
    },
    {
      "cell_type": "markdown",
      "source": [
        "Q2 a) Reverse the NumPy array: arr = np.array([1, 2, 3, 6, 4, 5])"
      ],
      "metadata": {
        "id": "OVU35Zpxc8nX"
      }
    },
    {
      "cell_type": "code",
      "source": [
        "import numpy as np\n",
        "arr=np.array([1,2,3,4,5])\n",
        "reversed_arr = arr[::-1]\n",
        "print(\"Original array:\", arr)\n",
        "print(\"Reversed array:\", reversed_arr)\n"
      ],
      "metadata": {
        "colab": {
          "base_uri": "https://localhost:8080/"
        },
        "id": "zPx-fQXcYdki",
        "outputId": "59f06aeb-08ef-49f3-9896-fa13112b2729"
      },
      "execution_count": null,
      "outputs": [
        {
          "output_type": "stream",
          "name": "stdout",
          "text": [
            "Original array: [1 2 3 4 5]\n",
            "Reversed array: [5 4 3 2 1]\n"
          ]
        }
      ]
    },
    {
      "cell_type": "markdown",
      "source": [
        "b) Find the most frequent value and their indice(s) in the following arrays:\n",
        "\n",
        "i. x = np.array([1,2,3,4,5,1,2,1,1,1])\n",
        "\n",
        "\n",
        "ii. y = np.array([1, 1, 1, 2, 3, 4, 2, 4, 3, 3, ])"
      ],
      "metadata": {
        "id": "48gpB_DXdENf"
      }
    },
    {
      "cell_type": "code",
      "source": [
        "import numpy as np\n",
        "\n",
        "# Array x\n",
        "x = np.array([1, 2, 3, 4, 5, 1, 2, 1, 1, 1])\n",
        "values, counts = np.unique(x, return_counts=True)\n",
        "most_frequent_value = values[np.argmax(counts)]\n",
        "indices = np.where(x == most_frequent_value)[0]\n",
        "print(\"Array x:\")\n",
        "print(\"Most frequent value:\", most_frequent_value)\n",
        "print(\"Indices:\", indices)\n",
        "\n",
        "# Array y\n",
        "y = np.array([1, 1, 1, 2, 3, 4, 2, 4, 3, 3])\n",
        "values, counts = np.unique(y, return_counts=True)\n",
        "most_frequent_value = values[np.argmax(counts)]\n",
        "indices = np.where(y == most_frequent_value)[0]\n",
        "print(\"\\nArray y:\")\n",
        "print(\"Most frequent value:\", most_frequent_value)\n",
        "print(\"Indices:\", indices)"
      ],
      "metadata": {
        "colab": {
          "base_uri": "https://localhost:8080/"
        },
        "id": "FkHIWO3VZebP",
        "outputId": "a5378649-8dc1-41e0-82a7-bb9f4cb81c21"
      },
      "execution_count": null,
      "outputs": [
        {
          "output_type": "stream",
          "name": "stdout",
          "text": [
            "Array x:\n",
            "Most frequent value: 1\n",
            "Indices: [0 5 7 8 9]\n",
            "\n",
            "Array y:\n",
            "Most frequent value: 1\n",
            "Indices: [0 1 2]\n"
          ]
        }
      ]
    },
    {
      "cell_type": "markdown",
      "source": [
        "Q.3 For the given 2-D array arr=np.array([10, 20, 30], [40, 50, 60], [70, 80, 90]), access\n",
        "elements using row and column indices as follows:\n",
        "\n",
        "a) Access 1st row, 2nd column\n",
        "\n",
        "b) Access 3rd row, 1st column"
      ],
      "metadata": {
        "id": "goZ9k44ydUAX"
      }
    },
    {
      "cell_type": "code",
      "source": [
        "import numpy as np\n",
        "arr = np.array([[10, 20, 30], [40, 50, 60], [70, 80, 90]])\n",
        "print(arr)\n",
        "element = arr[0, 1]\n",
        "print(\" 1st row, 2nd column:\",element)\n",
        "element2 = arr[2, 0]\n",
        "print(\"3rd row, 1st column\",element2)"
      ],
      "metadata": {
        "colab": {
          "base_uri": "https://localhost:8080/"
        },
        "id": "QIT7_MQAaizu",
        "outputId": "ef3c7b5c-116e-4733-ce44-aa6f96ef14b7"
      },
      "execution_count": null,
      "outputs": [
        {
          "output_type": "stream",
          "name": "stdout",
          "text": [
            "[[10 20 30]\n",
            " [40 50 60]\n",
            " [70 80 90]]\n",
            " 1st row, 2nd column: 20\n",
            "3rd row, 1st column 70\n"
          ]
        }
      ]
    },
    {
      "cell_type": "markdown",
      "source": [
        "Q.4 Write program to create an 1-D NumPy array named <<Your Name>> with evenly\n",
        "spaced 25 numbers from 10 to 100 using linspace(). Print the dimensions of the array,\n",
        "shape, total elements, the data type of each element and total number of bytes consumed\n",
        "by the array. Find the transpose of this array using reshape() attribute. Can we do the same\n",
        "with T attribute?"
      ],
      "metadata": {
        "id": "ktAglFk3c3t5"
      }
    },
    {
      "cell_type": "code",
      "source": [
        "import numpy as np\n",
        "kartikey = np.linspace(10, 100, 25)\n",
        "print(\"Dimensions:\", kartikey.ndim)\n",
        "print(\"Shape:\", kartikey.shape)\n",
        "print(\"Total elements:\", kartikey.size)\n",
        "print(\"Data type:\", kartikey.dtype)\n",
        "print(\"Total bytes consumed:\", kartikey.nbytes)\n",
        "transposed_reshape = kartikey.reshape(kartikey.shape[0], 1)\n",
        "print(\"\\nTransposed using reshape():\\n\", transposed_reshape)\n",
        "transposed_T = kartikey.T\n",
        "print(\"\\nTransposed using T attribute:\\n\", transposed_T)\n",
        "print(\"\\nIs reshape() equivalent to T for a 1-D array?\", np.array_equal(transposed_reshape.flatten(), transposed_T))"
      ],
      "metadata": {
        "colab": {
          "base_uri": "https://localhost:8080/"
        },
        "id": "LGSgihnndsHd",
        "outputId": "eb63c2e5-cef9-406d-9ded-2cc140f974d8"
      },
      "execution_count": null,
      "outputs": [
        {
          "output_type": "stream",
          "name": "stdout",
          "text": [
            "Dimensions: 1\n",
            "Shape: (25,)\n",
            "Total elements: 25\n",
            "Data type: float64\n",
            "Total bytes consumed: 200\n",
            "\n",
            "Transposed using reshape():\n",
            " [[ 10.  ]\n",
            " [ 13.75]\n",
            " [ 17.5 ]\n",
            " [ 21.25]\n",
            " [ 25.  ]\n",
            " [ 28.75]\n",
            " [ 32.5 ]\n",
            " [ 36.25]\n",
            " [ 40.  ]\n",
            " [ 43.75]\n",
            " [ 47.5 ]\n",
            " [ 51.25]\n",
            " [ 55.  ]\n",
            " [ 58.75]\n",
            " [ 62.5 ]\n",
            " [ 66.25]\n",
            " [ 70.  ]\n",
            " [ 73.75]\n",
            " [ 77.5 ]\n",
            " [ 81.25]\n",
            " [ 85.  ]\n",
            " [ 88.75]\n",
            " [ 92.5 ]\n",
            " [ 96.25]\n",
            " [100.  ]]\n",
            "\n",
            "Transposed using T attribute:\n",
            " [ 10.    13.75  17.5   21.25  25.    28.75  32.5   36.25  40.    43.75\n",
            "  47.5   51.25  55.    58.75  62.5   66.25  70.    73.75  77.5   81.25\n",
            "  85.    88.75  92.5   96.25 100.  ]\n",
            "\n",
            "Is reshape() equivalent to T for a 1-D array? True\n"
          ]
        }
      ]
    },
    {
      "cell_type": "markdown",
      "source": [
        "Q5. Create a 2-D Array of three rows and four columns, named ucs420_<your_name>>\n",
        "with following values – 10, 20, 30, 40, 50, 60, 70, 80, 90, 15, 20, 35. Compute the mean,\n",
        "median, max, min, unique elements. Reshape the array to four rows and three columns and\n",
        "name it as reshaped_ ucs420_<your_name>>. Resize the array to two rows and three\n",
        "columns and name it as resized_ ucs420_<your_name>>."
      ],
      "metadata": {
        "id": "7mUTmh7veQjN"
      }
    },
    {
      "cell_type": "code",
      "source": [
        "import numpy as np\n",
        "ucs420_kartikey = np.array([[10, 20, 30, 40], [50, 60, 70, 80], [90, 15, 20, 35]])\n",
        "print(\"Mean:\", np.mean(ucs420_kartikey))\n",
        "print(\"Median:\", np.median(ucs420_kartikey))\n",
        "print(\"Max:\", np.max(ucs420_kartikey))\n",
        "print(\"Min:\", np.min(ucs420_kartikey))\n",
        "print(\"Unique elements:\", np.unique(ucs420_kartikey))\n",
        "reshaped_ucs420_kartikey = ucs420_kartikey.reshape(4, 3)\n",
        "print(\"\\nReshaped array:\\n\", reshaped_ucs420_kartikey)\n",
        "resized_ucs420_kartikey = np.resize(ucs420_kartikey, (2, 3))\n",
        "print(\"\\nResized array:\\n\", resized_ucs420_kartikey)"
      ],
      "metadata": {
        "colab": {
          "base_uri": "https://localhost:8080/"
        },
        "id": "HPPex4uReS58",
        "outputId": "4db32052-bfbc-414c-a8b1-e1b1fa448c32"
      },
      "execution_count": null,
      "outputs": [
        {
          "output_type": "stream",
          "name": "stdout",
          "text": [
            "Mean: 43.333333333333336\n",
            "Median: 37.5\n",
            "Max: 90\n",
            "Min: 10\n",
            "Unique elements: [10 15 20 30 35 40 50 60 70 80 90]\n",
            "\n",
            "Reshaped array:\n",
            " [[10 20 30]\n",
            " [40 50 60]\n",
            " [70 80 90]\n",
            " [15 20 35]]\n",
            "\n",
            "Resized array:\n",
            " [[10 20 30]\n",
            " [40 50 60]]\n"
          ]
        }
      ]
    }
  ]
}