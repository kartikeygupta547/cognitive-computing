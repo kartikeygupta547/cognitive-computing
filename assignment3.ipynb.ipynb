{
  "nbformat": 4,
  "nbformat_minor": 0,
  "metadata": {
    "colab": {
      "provenance": []
    },
    "kernelspec": {
      "name": "python3",
      "display_name": "Python 3"
    },
    "language_info": {
      "name": "python"
    }
  },
  "cells": [
    {
      "cell_type": "code",
      "execution_count": null,
      "metadata": {
        "id": "By_kvcemWtoJ"
      },
      "outputs": [],
      "source": [
        "# ASSIGNMENT 3"
      ]
    },
    {
      "cell_type": "code",
      "source": [
        "from google.colab import files\n",
        "\n",
        "\n",
        "uploaded = files.upload()"
      ],
      "metadata": {
        "colab": {
          "base_uri": "https://localhost:8080/",
          "height": 74
        },
        "id": "0Bx2L-N7ZEDA",
        "outputId": "c9239f8c-56db-4250-c0e4-519c82bba907"
      },
      "execution_count": 10,
      "outputs": [
        {
          "output_type": "display_data",
          "data": {
            "text/plain": [
              "<IPython.core.display.HTML object>"
            ],
            "text/html": [
              "\n",
              "     <input type=\"file\" id=\"files-6d0daabf-2535-4be9-b4c3-f8748770ee74\" name=\"files[]\" multiple disabled\n",
              "        style=\"border:none\" />\n",
              "     <output id=\"result-6d0daabf-2535-4be9-b4c3-f8748770ee74\">\n",
              "      Upload widget is only available when the cell has been executed in the\n",
              "      current browser session. Please rerun this cell to enable.\n",
              "      </output>\n",
              "      <script>// Copyright 2017 Google LLC\n",
              "//\n",
              "// Licensed under the Apache License, Version 2.0 (the \"License\");\n",
              "// you may not use this file except in compliance with the License.\n",
              "// You may obtain a copy of the License at\n",
              "//\n",
              "//      http://www.apache.org/licenses/LICENSE-2.0\n",
              "//\n",
              "// Unless required by applicable law or agreed to in writing, software\n",
              "// distributed under the License is distributed on an \"AS IS\" BASIS,\n",
              "// WITHOUT WARRANTIES OR CONDITIONS OF ANY KIND, either express or implied.\n",
              "// See the License for the specific language governing permissions and\n",
              "// limitations under the License.\n",
              "\n",
              "/**\n",
              " * @fileoverview Helpers for google.colab Python module.\n",
              " */\n",
              "(function(scope) {\n",
              "function span(text, styleAttributes = {}) {\n",
              "  const element = document.createElement('span');\n",
              "  element.textContent = text;\n",
              "  for (const key of Object.keys(styleAttributes)) {\n",
              "    element.style[key] = styleAttributes[key];\n",
              "  }\n",
              "  return element;\n",
              "}\n",
              "\n",
              "// Max number of bytes which will be uploaded at a time.\n",
              "const MAX_PAYLOAD_SIZE = 100 * 1024;\n",
              "\n",
              "function _uploadFiles(inputId, outputId) {\n",
              "  const steps = uploadFilesStep(inputId, outputId);\n",
              "  const outputElement = document.getElementById(outputId);\n",
              "  // Cache steps on the outputElement to make it available for the next call\n",
              "  // to uploadFilesContinue from Python.\n",
              "  outputElement.steps = steps;\n",
              "\n",
              "  return _uploadFilesContinue(outputId);\n",
              "}\n",
              "\n",
              "// This is roughly an async generator (not supported in the browser yet),\n",
              "// where there are multiple asynchronous steps and the Python side is going\n",
              "// to poll for completion of each step.\n",
              "// This uses a Promise to block the python side on completion of each step,\n",
              "// then passes the result of the previous step as the input to the next step.\n",
              "function _uploadFilesContinue(outputId) {\n",
              "  const outputElement = document.getElementById(outputId);\n",
              "  const steps = outputElement.steps;\n",
              "\n",
              "  const next = steps.next(outputElement.lastPromiseValue);\n",
              "  return Promise.resolve(next.value.promise).then((value) => {\n",
              "    // Cache the last promise value to make it available to the next\n",
              "    // step of the generator.\n",
              "    outputElement.lastPromiseValue = value;\n",
              "    return next.value.response;\n",
              "  });\n",
              "}\n",
              "\n",
              "/**\n",
              " * Generator function which is called between each async step of the upload\n",
              " * process.\n",
              " * @param {string} inputId Element ID of the input file picker element.\n",
              " * @param {string} outputId Element ID of the output display.\n",
              " * @return {!Iterable<!Object>} Iterable of next steps.\n",
              " */\n",
              "function* uploadFilesStep(inputId, outputId) {\n",
              "  const inputElement = document.getElementById(inputId);\n",
              "  inputElement.disabled = false;\n",
              "\n",
              "  const outputElement = document.getElementById(outputId);\n",
              "  outputElement.innerHTML = '';\n",
              "\n",
              "  const pickedPromise = new Promise((resolve) => {\n",
              "    inputElement.addEventListener('change', (e) => {\n",
              "      resolve(e.target.files);\n",
              "    });\n",
              "  });\n",
              "\n",
              "  const cancel = document.createElement('button');\n",
              "  inputElement.parentElement.appendChild(cancel);\n",
              "  cancel.textContent = 'Cancel upload';\n",
              "  const cancelPromise = new Promise((resolve) => {\n",
              "    cancel.onclick = () => {\n",
              "      resolve(null);\n",
              "    };\n",
              "  });\n",
              "\n",
              "  // Wait for the user to pick the files.\n",
              "  const files = yield {\n",
              "    promise: Promise.race([pickedPromise, cancelPromise]),\n",
              "    response: {\n",
              "      action: 'starting',\n",
              "    }\n",
              "  };\n",
              "\n",
              "  cancel.remove();\n",
              "\n",
              "  // Disable the input element since further picks are not allowed.\n",
              "  inputElement.disabled = true;\n",
              "\n",
              "  if (!files) {\n",
              "    return {\n",
              "      response: {\n",
              "        action: 'complete',\n",
              "      }\n",
              "    };\n",
              "  }\n",
              "\n",
              "  for (const file of files) {\n",
              "    const li = document.createElement('li');\n",
              "    li.append(span(file.name, {fontWeight: 'bold'}));\n",
              "    li.append(span(\n",
              "        `(${file.type || 'n/a'}) - ${file.size} bytes, ` +\n",
              "        `last modified: ${\n",
              "            file.lastModifiedDate ? file.lastModifiedDate.toLocaleDateString() :\n",
              "                                    'n/a'} - `));\n",
              "    const percent = span('0% done');\n",
              "    li.appendChild(percent);\n",
              "\n",
              "    outputElement.appendChild(li);\n",
              "\n",
              "    const fileDataPromise = new Promise((resolve) => {\n",
              "      const reader = new FileReader();\n",
              "      reader.onload = (e) => {\n",
              "        resolve(e.target.result);\n",
              "      };\n",
              "      reader.readAsArrayBuffer(file);\n",
              "    });\n",
              "    // Wait for the data to be ready.\n",
              "    let fileData = yield {\n",
              "      promise: fileDataPromise,\n",
              "      response: {\n",
              "        action: 'continue',\n",
              "      }\n",
              "    };\n",
              "\n",
              "    // Use a chunked sending to avoid message size limits. See b/62115660.\n",
              "    let position = 0;\n",
              "    do {\n",
              "      const length = Math.min(fileData.byteLength - position, MAX_PAYLOAD_SIZE);\n",
              "      const chunk = new Uint8Array(fileData, position, length);\n",
              "      position += length;\n",
              "\n",
              "      const base64 = btoa(String.fromCharCode.apply(null, chunk));\n",
              "      yield {\n",
              "        response: {\n",
              "          action: 'append',\n",
              "          file: file.name,\n",
              "          data: base64,\n",
              "        },\n",
              "      };\n",
              "\n",
              "      let percentDone = fileData.byteLength === 0 ?\n",
              "          100 :\n",
              "          Math.round((position / fileData.byteLength) * 100);\n",
              "      percent.textContent = `${percentDone}% done`;\n",
              "\n",
              "    } while (position < fileData.byteLength);\n",
              "  }\n",
              "\n",
              "  // All done.\n",
              "  yield {\n",
              "    response: {\n",
              "      action: 'complete',\n",
              "    }\n",
              "  };\n",
              "}\n",
              "\n",
              "scope.google = scope.google || {};\n",
              "scope.google.colab = scope.google.colab || {};\n",
              "scope.google.colab._files = {\n",
              "  _uploadFiles,\n",
              "  _uploadFilesContinue,\n",
              "};\n",
              "})(self);\n",
              "</script> "
            ]
          },
          "metadata": {}
        },
        {
          "output_type": "stream",
          "name": "stdout",
          "text": [
            "Saving employees.csv to employees.csv\n"
          ]
        }
      ]
    },
    {
      "cell_type": "code",
      "source": [
        "# QUESTION 1\n",
        "import pandas as pd\n",
        "df = pd.read_csv('table.csv')\n",
        "print(\"Contents of the table is: \")\n",
        "print()\n",
        "print(df.to_string())"
      ],
      "metadata": {
        "id": "kxBo-BtCbg4A",
        "colab": {
          "base_uri": "https://localhost:8080/"
        },
        "outputId": "b0e4fb16-c2c6-4643-ce82-c841f016f051"
      },
      "execution_count": 4,
      "outputs": [
        {
          "output_type": "stream",
          "name": "stdout",
          "text": [
            "Contents of the table is: \n",
            "\n",
            "   Tid Refund Marital Status  Taxable Income Cheat\n",
            "0    1    Yes         Single          125000    No\n",
            "1    2     No        Married          100000    No\n",
            "2    3     No         Single           70000    No\n",
            "3    4    Yes        Married          120000    No\n",
            "4    5     No       Divorced           95000   Yes\n",
            "5    6     No        Married           60000    No\n",
            "6    7    Yes       Divorced          220000    No\n",
            "7    8     No         Single           85000   Yes\n",
            "8    9     No        Married           75000    No\n",
            "9   10     No         Single           90000   Yes\n"
          ]
        }
      ]
    },
    {
      "cell_type": "code",
      "source": [
        "# QUESTION 2\n",
        "import pandas as pd\n",
        "df = pd.read_csv(\"table.csv\")\n",
        "print()\n",
        "\n",
        "print(\"Printing the 0th row: \")\n",
        "print(df.loc[0])\n",
        "print()\n",
        "\n",
        "print(\"Printing the 4th row: \")\n",
        "print(df.loc[4])\n",
        "print()\n",
        "\n",
        "print(\"Printing the 7th row: \")\n",
        "print(df.loc[7])\n",
        "print()\n",
        "\n",
        "print(\"Printing the 8th row: \")\n",
        "print(df.loc[8])\n",
        "print()"
      ],
      "metadata": {
        "colab": {
          "base_uri": "https://localhost:8080/"
        },
        "id": "s_2W0NtiXXff",
        "outputId": "39410031-ab06-4a94-b81c-1630fc2eb7c1"
      },
      "execution_count": 5,
      "outputs": [
        {
          "output_type": "stream",
          "name": "stdout",
          "text": [
            "\n",
            "Printing the 0th row: \n",
            "Tid                    1\n",
            "Refund               Yes\n",
            "Marital Status    Single\n",
            "Taxable Income    125000\n",
            "Cheat                 No\n",
            "Name: 0, dtype: object\n",
            "\n",
            "Printing the 4th row: \n",
            "Tid                      5\n",
            "Refund                  No\n",
            "Marital Status    Divorced\n",
            "Taxable Income       95000\n",
            "Cheat                  Yes\n",
            "Name: 4, dtype: object\n",
            "\n",
            "Printing the 7th row: \n",
            "Tid                    8\n",
            "Refund                No\n",
            "Marital Status    Single\n",
            "Taxable Income     85000\n",
            "Cheat                Yes\n",
            "Name: 7, dtype: object\n",
            "\n",
            "Printing the 8th row: \n",
            "Tid                     9\n",
            "Refund                 No\n",
            "Marital Status    Married\n",
            "Taxable Income      75000\n",
            "Cheat                  No\n",
            "Name: 8, dtype: object\n",
            "\n"
          ]
        }
      ]
    },
    {
      "cell_type": "code",
      "source": [
        "# QUESTION 3\n",
        "import pandas as pd\n",
        "df = pd.read_csv(\"table.csv\")\n",
        "print()\n",
        "\n",
        "print(\"Printing the row 3 to 6: \")\n",
        "print(df.iloc[3:7])\n",
        "print()\n",
        "\n",
        "print(\"Printing the row 4 to 8 and coloumn 2 to 5: \")\n",
        "print(df.iloc[4:9,2:5])\n",
        "print()\n",
        "\n",
        "print(\"Printing the all rows and coloumn 1 to 3: \")\n",
        "print(df.iloc[:,1:4])"
      ],
      "metadata": {
        "colab": {
          "base_uri": "https://localhost:8080/"
        },
        "id": "gQMx5u_WXtNn",
        "outputId": "185bdf2a-72d8-4a14-8564-35704557f7b7"
      },
      "execution_count": 6,
      "outputs": [
        {
          "output_type": "stream",
          "name": "stdout",
          "text": [
            "\n",
            "Printing the row 3 to 6: \n",
            "   Tid Refund Marital Status  Taxable Income Cheat\n",
            "3    4    Yes        Married          120000    No\n",
            "4    5     No       Divorced           95000   Yes\n",
            "5    6     No        Married           60000    No\n",
            "6    7    Yes       Divorced          220000    No\n",
            "\n",
            "Printing the row 4 to 8 and coloumn 2 to 5: \n",
            "  Marital Status  Taxable Income Cheat\n",
            "4       Divorced           95000   Yes\n",
            "5        Married           60000    No\n",
            "6       Divorced          220000    No\n",
            "7         Single           85000   Yes\n",
            "8        Married           75000    No\n",
            "\n",
            "Printing the all rows and coloumn 1 to 3: \n",
            "  Refund Marital Status  Taxable Income\n",
            "0    Yes         Single          125000\n",
            "1     No        Married          100000\n",
            "2     No         Single           70000\n",
            "3    Yes        Married          120000\n",
            "4     No       Divorced           95000\n",
            "5     No        Married           60000\n",
            "6    Yes       Divorced          220000\n",
            "7     No         Single           85000\n",
            "8     No        Married           75000\n",
            "9     No         Single           90000\n"
          ]
        }
      ]
    },
    {
      "cell_type": "code",
      "source": [
        "# QUESTION 4\n",
        "import pandas as pd\n",
        "df = pd.read_csv(\"table.csv\")\n",
        "print()\n",
        "\n",
        "print(\"Printing the first 5 rows: \")\n",
        "print()\n",
        "print(df.head())"
      ],
      "metadata": {
        "colab": {
          "base_uri": "https://localhost:8080/"
        },
        "id": "vvGfHM1aX7Bv",
        "outputId": "7e029e61-0ef8-4e6e-b7cf-f4af59de671e"
      },
      "execution_count": 7,
      "outputs": [
        {
          "output_type": "stream",
          "name": "stdout",
          "text": [
            "\n",
            "Printing the first 5 rows: \n",
            "\n",
            "   Tid Refund Marital Status  Taxable Income Cheat\n",
            "0    1    Yes         Single          125000    No\n",
            "1    2     No        Married          100000    No\n",
            "2    3     No         Single           70000    No\n",
            "3    4    Yes        Married          120000    No\n",
            "4    5     No       Divorced           95000   Yes\n"
          ]
        }
      ]
    },
    {
      "cell_type": "code",
      "source": [
        "# QUESTION 5\n",
        "import pandas as pd\n",
        "df = pd.read_csv(\"table.csv\")\n",
        "print()\n",
        "\n",
        "print(\"Deleting the 4th row: \")\n",
        "print()\n",
        "print(df.drop(4,axis=0,inplace=True))\n",
        "print(df.to_string())\n",
        "\n",
        "print()\n",
        "print(\"Deleting the 3rd coloumn: \")\n",
        "print()\n",
        "print(df.drop(df.columns[3],axis=1,inplace=True))\n",
        "print(df.to_string())"
      ],
      "metadata": {
        "colab": {
          "base_uri": "https://localhost:8080/"
        },
        "id": "qR77LNX2YFeM",
        "outputId": "bbf10de3-3854-4eef-d3da-b2e793b16065"
      },
      "execution_count": 8,
      "outputs": [
        {
          "output_type": "stream",
          "name": "stdout",
          "text": [
            "\n",
            "Deleting the 4th row: \n",
            "\n",
            "None\n",
            "   Tid Refund Marital Status  Taxable Income Cheat\n",
            "0    1    Yes         Single          125000    No\n",
            "1    2     No        Married          100000    No\n",
            "2    3     No         Single           70000    No\n",
            "3    4    Yes        Married          120000    No\n",
            "5    6     No        Married           60000    No\n",
            "6    7    Yes       Divorced          220000    No\n",
            "7    8     No         Single           85000   Yes\n",
            "8    9     No        Married           75000    No\n",
            "9   10     No         Single           90000   Yes\n",
            "\n",
            "Deleting the 3rd coloumn: \n",
            "\n",
            "None\n",
            "   Tid Refund Marital Status Cheat\n",
            "0    1    Yes         Single    No\n",
            "1    2     No        Married    No\n",
            "2    3     No         Single    No\n",
            "3    4    Yes        Married    No\n",
            "5    6     No        Married    No\n",
            "6    7    Yes       Divorced    No\n",
            "7    8     No         Single   Yes\n",
            "8    9     No        Married    No\n",
            "9   10     No         Single   Yes\n"
          ]
        }
      ]
    },
    {
      "cell_type": "code",
      "source": [
        "# QUESTION 6\n",
        "import pandas as pd\n",
        "df=pd.read_csv(\"employees.csv\")\n",
        "print(\"Data in the csv file is: \")\n",
        "print()\n",
        "print(df.to_string())\n",
        "\n",
        "print()\n",
        "rows,columns=df.shape\n",
        "print(\"Number of rows are: \",rows)\n",
        "print(\"Number of columns are: \",columns)"
      ],
      "metadata": {
        "colab": {
          "base_uri": "https://localhost:8080/"
        },
        "id": "jHNfrm9eYUON",
        "outputId": "e8510f92-eb0b-4271-fa8e-e28e3d770b0f"
      },
      "execution_count": 11,
      "outputs": [
        {
          "output_type": "stream",
          "name": "stdout",
          "text": [
            "Data in the csv file is: \n",
            "\n",
            "   Employee_ID     Name Department  Age  Salary  Years_of_Experience Joining_Date  Gender  Bonus  Rating\n",
            "0          101    Alice         HR   29   50000                    4   2020-03-15  Female   5000     4.5\n",
            "1          102      Bob         IT   34   70000                    8   2017-07-19    Male   7000     4.0\n",
            "2          103  Charlie         IT   41   65000                   10   2013-06-01    Male   6000     3.8\n",
            "3          104    Diana  Marketing   28   55000                    3   2021-02-10  Female   4500     4.7\n",
            "4          105   Edward      Sales   38   60000                   12   2010-11-25    Male   5000     3.5\n",
            "\n",
            "Number of rows are:  5\n",
            "Number of columns are:  10\n"
          ]
        }
      ]
    },
    {
      "cell_type": "code",
      "source": [
        "# 6(b)\n",
        "import pandas as pd\n",
        "df=pd.read_csv(\"employees.csv\")\n",
        "\n",
        "print(\"Summary of the data frame is: \")\n",
        "print()\n",
        "print(df.describe())"
      ],
      "metadata": {
        "colab": {
          "base_uri": "https://localhost:8080/"
        },
        "id": "BIQJRyNdZWbZ",
        "outputId": "cba947ba-9491-4b80-dba6-4f1c743e06db"
      },
      "execution_count": 12,
      "outputs": [
        {
          "output_type": "stream",
          "name": "stdout",
          "text": [
            "Summary of the data frame is: \n",
            "\n",
            "       Employee_ID        Age       Salary  Years_of_Experience   Bonus  \\\n",
            "count     5.000000   5.000000      5.00000             5.000000     5.0   \n",
            "mean    103.000000  34.000000  60000.00000             7.400000  5500.0   \n",
            "std       1.581139   5.612486   7905.69415             3.847077  1000.0   \n",
            "min     101.000000  28.000000  50000.00000             3.000000  4500.0   \n",
            "25%     102.000000  29.000000  55000.00000             4.000000  5000.0   \n",
            "50%     103.000000  34.000000  60000.00000             8.000000  5000.0   \n",
            "75%     104.000000  38.000000  65000.00000            10.000000  6000.0   \n",
            "max     105.000000  41.000000  70000.00000            12.000000  7000.0   \n",
            "\n",
            "         Rating  \n",
            "count  5.000000  \n",
            "mean   4.100000  \n",
            "std    0.494975  \n",
            "min    3.500000  \n",
            "25%    3.800000  \n",
            "50%    4.000000  \n",
            "75%    4.500000  \n",
            "max    4.700000  \n"
          ]
        }
      ]
    },
    {
      "cell_type": "code",
      "source": [
        "# 6(c)\n",
        "import pandas as pd\n",
        "df=pd.read_csv(\"employees.csv\")\n",
        "\n",
        "print(\"Descriptive statistics is: \")\n",
        "print()\n",
        "print(df.describe())"
      ],
      "metadata": {
        "colab": {
          "base_uri": "https://localhost:8080/"
        },
        "id": "MgKs7yBnZiYe",
        "outputId": "700b7c36-6078-4f89-c595-2390a2054b83"
      },
      "execution_count": 13,
      "outputs": [
        {
          "output_type": "stream",
          "name": "stdout",
          "text": [
            "Descriptive statistics is: \n",
            "\n",
            "       Employee_ID        Age       Salary  Years_of_Experience   Bonus  \\\n",
            "count     5.000000   5.000000      5.00000             5.000000     5.0   \n",
            "mean    103.000000  34.000000  60000.00000             7.400000  5500.0   \n",
            "std       1.581139   5.612486   7905.69415             3.847077  1000.0   \n",
            "min     101.000000  28.000000  50000.00000             3.000000  4500.0   \n",
            "25%     102.000000  29.000000  55000.00000             4.000000  5000.0   \n",
            "50%     103.000000  34.000000  60000.00000             8.000000  5000.0   \n",
            "75%     104.000000  38.000000  65000.00000            10.000000  6000.0   \n",
            "max     105.000000  41.000000  70000.00000            12.000000  7000.0   \n",
            "\n",
            "         Rating  \n",
            "count  5.000000  \n",
            "mean   4.100000  \n",
            "std    0.494975  \n",
            "min    3.500000  \n",
            "25%    3.800000  \n",
            "50%    4.000000  \n",
            "75%    4.500000  \n",
            "max    4.700000  \n"
          ]
        }
      ]
    },
    {
      "cell_type": "code",
      "source": [
        "# 6(d)\n",
        "import pandas as pd\n",
        "df=pd.read_csv(\"employees.csv\")\n",
        "\n",
        "print(\"Displaying the first 5 rows\")\n",
        "print()\n",
        "print(df.head(5))\n",
        "print()\n",
        "\n",
        "print(\"Displaying the last 3 rows\")\n",
        "print()\n",
        "print(df.tail(3))"
      ],
      "metadata": {
        "colab": {
          "base_uri": "https://localhost:8080/"
        },
        "id": "CgCPa7bhZpIg",
        "outputId": "71d28be4-d074-423b-9ef0-cc3a3cccbe78"
      },
      "execution_count": 14,
      "outputs": [
        {
          "output_type": "stream",
          "name": "stdout",
          "text": [
            "Displaying the first 5 rows\n",
            "\n",
            "   Employee_ID     Name Department  Age  Salary  Years_of_Experience  \\\n",
            "0          101    Alice         HR   29   50000                    4   \n",
            "1          102      Bob         IT   34   70000                    8   \n",
            "2          103  Charlie         IT   41   65000                   10   \n",
            "3          104    Diana  Marketing   28   55000                    3   \n",
            "4          105   Edward      Sales   38   60000                   12   \n",
            "\n",
            "  Joining_Date  Gender  Bonus  Rating  \n",
            "0   2020-03-15  Female   5000     4.5  \n",
            "1   2017-07-19    Male   7000     4.0  \n",
            "2   2013-06-01    Male   6000     3.8  \n",
            "3   2021-02-10  Female   4500     4.7  \n",
            "4   2010-11-25    Male   5000     3.5  \n",
            "\n",
            "Displaying the last 3 rows\n",
            "\n",
            "   Employee_ID     Name Department  Age  Salary  Years_of_Experience  \\\n",
            "2          103  Charlie         IT   41   65000                   10   \n",
            "3          104    Diana  Marketing   28   55000                    3   \n",
            "4          105   Edward      Sales   38   60000                   12   \n",
            "\n",
            "  Joining_Date  Gender  Bonus  Rating  \n",
            "2   2013-06-01    Male   6000     3.8  \n",
            "3   2021-02-10  Female   4500     4.7  \n",
            "4   2010-11-25    Male   5000     3.5  \n"
          ]
        }
      ]
    },
    {
      "cell_type": "code",
      "source": [
        "# 6(e)\n",
        "import pandas as pd\n",
        "df=pd.read_csv(\"employees.csv\")\n",
        "\n",
        "average_salary = df[\"Salary\"].mean()\n",
        "total_bonus = df[\"Bonus\"].sum()\n",
        "youngest_age = df[\"Age\"].min()\n",
        "highest_rating = df[\"Rating\"].max()\n",
        "print(\"The average salary of employees: \",average_salary)\n",
        "print(\"The total bonus paid to all employees: \", total_bonus)\n",
        "print(\"The youngest employee's age: \",youngest_age)\n",
        "print(\"The highest performance rating: \" ,highest_rating)"
      ],
      "metadata": {
        "colab": {
          "base_uri": "https://localhost:8080/"
        },
        "id": "O6HxeLUrZ0Vs",
        "outputId": "6003ea16-bb50-4b62-d4c7-883a0822f988"
      },
      "execution_count": 15,
      "outputs": [
        {
          "output_type": "stream",
          "name": "stdout",
          "text": [
            "The average salary of employees:  60000.0\n",
            "The total bonus paid to all employees:  27500\n",
            "The youngest employee's age:  28\n",
            "The highest performance rating:  4.7\n"
          ]
        }
      ]
    },
    {
      "cell_type": "code",
      "source": [
        "# 6(f)\n",
        "import pandas as pd\n",
        "df=pd.read_csv(\"employees.csv\")\n",
        "\n",
        "sorted_df = df.sort_values(by=\"Salary\", ascending=False)\n",
        "print(\"the sorted data frame is : \")\n",
        "print(sorted_df)"
      ],
      "metadata": {
        "colab": {
          "base_uri": "https://localhost:8080/"
        },
        "id": "dTn7mA_9Z6QU",
        "outputId": "d6e540af-e397-4d9b-ec7e-8c473b2b1ea2"
      },
      "execution_count": 16,
      "outputs": [
        {
          "output_type": "stream",
          "name": "stdout",
          "text": [
            "the sorted data frame is : \n",
            "   Employee_ID     Name Department  Age  Salary  Years_of_Experience  \\\n",
            "1          102      Bob         IT   34   70000                    8   \n",
            "2          103  Charlie         IT   41   65000                   10   \n",
            "4          105   Edward      Sales   38   60000                   12   \n",
            "3          104    Diana  Marketing   28   55000                    3   \n",
            "0          101    Alice         HR   29   50000                    4   \n",
            "\n",
            "  Joining_Date  Gender  Bonus  Rating  \n",
            "1   2017-07-19    Male   7000     4.0  \n",
            "2   2013-06-01    Male   6000     3.8  \n",
            "4   2010-11-25    Male   5000     3.5  \n",
            "3   2021-02-10  Female   4500     4.7  \n",
            "0   2020-03-15  Female   5000     4.5  \n"
          ]
        }
      ]
    },
    {
      "cell_type": "code",
      "source": [
        "# 6(g)\n",
        "def performance(rating):\n",
        "    if rating >= 4.5:\n",
        "        return \"Excellent\"\n",
        "    elif 4.0 <= rating < 4.5:\n",
        "        return \"Good\"\n",
        "    else:\n",
        "        return \"Average\"\n",
        "\n",
        "import pandas as pd\n",
        "df=pd.read_csv(\"employees.csv\")\n",
        "\n",
        "df[\"Performance\"] = df[\"Rating\"].apply(performance)\n",
        "\n",
        "print(\"printing the updated data frame\")\n",
        "print(df)"
      ],
      "metadata": {
        "colab": {
          "base_uri": "https://localhost:8080/"
        },
        "id": "i38IznkRaADK",
        "outputId": "e639b08a-7625-471a-8bac-669ddafd74ee"
      },
      "execution_count": 17,
      "outputs": [
        {
          "output_type": "stream",
          "name": "stdout",
          "text": [
            "printing the updated data frame\n",
            "   Employee_ID     Name Department  Age  Salary  Years_of_Experience  \\\n",
            "0          101    Alice         HR   29   50000                    4   \n",
            "1          102      Bob         IT   34   70000                    8   \n",
            "2          103  Charlie         IT   41   65000                   10   \n",
            "3          104    Diana  Marketing   28   55000                    3   \n",
            "4          105   Edward      Sales   38   60000                   12   \n",
            "\n",
            "  Joining_Date  Gender  Bonus  Rating Performance  \n",
            "0   2020-03-15  Female   5000     4.5   Excellent  \n",
            "1   2017-07-19    Male   7000     4.0        Good  \n",
            "2   2013-06-01    Male   6000     3.8     Average  \n",
            "3   2021-02-10  Female   4500     4.7   Excellent  \n",
            "4   2010-11-25    Male   5000     3.5     Average  \n"
          ]
        }
      ]
    },
    {
      "cell_type": "code",
      "source": [
        "# 6(h)\n",
        "import pandas as pd\n",
        "df=pd.read_csv(\"employees.csv\")\n",
        "print(\"the data in the csv file is :\")\n",
        "\n",
        "miss = df.isnull()\n",
        "\n",
        "print(\"Missing Values are:\")\n",
        "print(miss)"
      ],
      "metadata": {
        "colab": {
          "base_uri": "https://localhost:8080/"
        },
        "id": "RJ4Tr8jOaGIv",
        "outputId": "1bcc5623-d964-4846-ef0a-394302039418"
      },
      "execution_count": 18,
      "outputs": [
        {
          "output_type": "stream",
          "name": "stdout",
          "text": [
            "the data in the csv file is :\n",
            "Missing Values are:\n",
            "   Employee_ID   Name  Department    Age  Salary  Years_of_Experience  \\\n",
            "0        False  False       False  False   False                False   \n",
            "1        False  False       False  False   False                False   \n",
            "2        False  False       False  False   False                False   \n",
            "3        False  False       False  False   False                False   \n",
            "4        False  False       False  False   False                False   \n",
            "\n",
            "   Joining_Date  Gender  Bonus  Rating  \n",
            "0         False   False  False   False  \n",
            "1         False   False  False   False  \n",
            "2         False   False  False   False  \n",
            "3         False   False  False   False  \n",
            "4         False   False  False   False  \n"
          ]
        }
      ]
    },
    {
      "cell_type": "code",
      "source": [
        "# 6(i)\n",
        "import pandas as pd\n",
        "df=pd.read_csv(\"employees.csv\")\n",
        "\n",
        "df = df.rename(columns={\"Employee ID\": \"ID\"})\n",
        "print(\"The new data frame is \")\n",
        "print(df)"
      ],
      "metadata": {
        "colab": {
          "base_uri": "https://localhost:8080/"
        },
        "id": "04ZfaUyvaMdJ",
        "outputId": "c6e1b6f4-689f-44a3-edf2-7c1b199d24c5"
      },
      "execution_count": 19,
      "outputs": [
        {
          "output_type": "stream",
          "name": "stdout",
          "text": [
            "The new data frame is \n",
            "   Employee_ID     Name Department  Age  Salary  Years_of_Experience  \\\n",
            "0          101    Alice         HR   29   50000                    4   \n",
            "1          102      Bob         IT   34   70000                    8   \n",
            "2          103  Charlie         IT   41   65000                   10   \n",
            "3          104    Diana  Marketing   28   55000                    3   \n",
            "4          105   Edward      Sales   38   60000                   12   \n",
            "\n",
            "  Joining_Date  Gender  Bonus  Rating  \n",
            "0   2020-03-15  Female   5000     4.5  \n",
            "1   2017-07-19    Male   7000     4.0  \n",
            "2   2013-06-01    Male   6000     3.8  \n",
            "3   2021-02-10  Female   4500     4.7  \n",
            "4   2010-11-25    Male   5000     3.5  \n"
          ]
        }
      ]
    },
    {
      "cell_type": "code",
      "source": [
        "# 6(j)\n",
        "import pandas as pd\n",
        "df=pd.read_csv(\"employees.csv\")\n",
        "\n",
        "ee = df[df[\"Years_of_Experience\"] > 5]\n",
        "it_e = df[df[\"Department\"] == \"IT\"]\n",
        "print(\"employees more than 5 years of experience are:\")\n",
        "print()\n",
        "print(ee)\n",
        "print(\"employees of IT department:\")\n",
        "print()\n",
        "print(it_e)"
      ],
      "metadata": {
        "colab": {
          "base_uri": "https://localhost:8080/"
        },
        "id": "yATorarPaTDB",
        "outputId": "45368a1b-7d6f-4731-d6dd-afad3ff1f1ed"
      },
      "execution_count": 22,
      "outputs": [
        {
          "output_type": "stream",
          "name": "stdout",
          "text": [
            "employees more than 5 years of experience are:\n",
            "\n",
            "   Employee_ID     Name Department  Age  Salary  Years_of_Experience  \\\n",
            "1          102      Bob         IT   34   70000                    8   \n",
            "2          103  Charlie         IT   41   65000                   10   \n",
            "4          105   Edward      Sales   38   60000                   12   \n",
            "\n",
            "  Joining_Date Gender  Bonus  Rating  \n",
            "1   2017-07-19   Male   7000     4.0  \n",
            "2   2013-06-01   Male   6000     3.8  \n",
            "4   2010-11-25   Male   5000     3.5  \n",
            "employees of IT department:\n",
            "\n",
            "   Employee_ID     Name Department  Age  Salary  Years_of_Experience  \\\n",
            "1          102      Bob         IT   34   70000                    8   \n",
            "2          103  Charlie         IT   41   65000                   10   \n",
            "\n",
            "  Joining_Date Gender  Bonus  Rating  \n",
            "1   2017-07-19   Male   7000     4.0  \n",
            "2   2013-06-01   Male   6000     3.8  \n"
          ]
        }
      ]
    },
    {
      "cell_type": "code",
      "source": [
        "# 6(k)\n",
        "import pandas as pd\n",
        "df=pd.read_csv(\"employees.csv\")\n",
        "\n",
        "df[\"Tax\"] = df[\"Salary\"] * 0.10\n",
        "print(\"Now the data in the csv file is :\")\n",
        "print()\n",
        "print(df.to_string())\n",
        "print()\n"
      ],
      "metadata": {
        "colab": {
          "base_uri": "https://localhost:8080/"
        },
        "id": "FZ_BVW43aoRG",
        "outputId": "0d3ca94b-1007-495b-8737-aa56afa01a10"
      },
      "execution_count": 23,
      "outputs": [
        {
          "output_type": "stream",
          "name": "stdout",
          "text": [
            "Now the data in the csv file is :\n",
            "\n",
            "   Employee_ID     Name Department  Age  Salary  Years_of_Experience Joining_Date  Gender  Bonus  Rating     Tax\n",
            "0          101    Alice         HR   29   50000                    4   2020-03-15  Female   5000     4.5  5000.0\n",
            "1          102      Bob         IT   34   70000                    8   2017-07-19    Male   7000     4.0  7000.0\n",
            "2          103  Charlie         IT   41   65000                   10   2013-06-01    Male   6000     3.8  6500.0\n",
            "3          104    Diana  Marketing   28   55000                    3   2021-02-10  Female   4500     4.7  5500.0\n",
            "4          105   Edward      Sales   38   60000                   12   2010-11-25    Male   5000     3.5  6000.0\n",
            "\n"
          ]
        }
      ]
    },
    {
      "cell_type": "code",
      "source": [
        "# 6(l)\n",
        "import pandas as pd\n",
        "df=pd.read_csv(\"employees.csv\")\n",
        "\n",
        "modified_csv_path = \"modified_employees.csv\"\n",
        "df.to_csv(modified_csv_path, index=False)\n",
        "\n",
        "print(f\"Modified DataFrame saved to {modified_csv_path}\")"
      ],
      "metadata": {
        "colab": {
          "base_uri": "https://localhost:8080/"
        },
        "id": "aOSq5_XIawMH",
        "outputId": "9300910c-8499-448c-e6ac-05d22c7c7083"
      },
      "execution_count": 24,
      "outputs": [
        {
          "output_type": "stream",
          "name": "stdout",
          "text": [
            "Modified DataFrame saved to modified_employees.csv\n"
          ]
        }
      ]
    }
  ]
}