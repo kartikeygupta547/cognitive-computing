{
  "nbformat": 4,
  "nbformat_minor": 0,
  "metadata": {
    "colab": {
      "provenance": [],
      "authorship_tag": "ABX9TyMGkBs1/qEWQcS1APPy1VFV",
      "include_colab_link": true
    },
    "kernelspec": {
      "name": "python3",
      "display_name": "Python 3"
    },
    "language_info": {
      "name": "python"
    }
  },
  "cells": [
    {
      "cell_type": "markdown",
      "metadata": {
        "id": "view-in-github",
        "colab_type": "text"
      },
      "source": [
        "<a href=\"https://colab.research.google.com/github/kartikeygupta547/cognitive-computing/blob/main/Assignment2.ipynb\" target=\"_parent\"><img src=\"https://colab.research.google.com/assets/colab-badge.svg\" alt=\"Open In Colab\"/></a>"
      ]
    },
    {
      "cell_type": "markdown",
      "source": [
        "1. Create a List L that is defined as= [10, 20, 30, 40, 50, 60, 70, 80].\n",
        "\n",
        "i. WAP to add 200 and 300 to L.\n",
        "\n",
        "ii. WAP to remove 10 and 30 from L.\n",
        "\n",
        "iii. WAP to sort L in ascending order.\n",
        "\n",
        "iv. WAP to sort L in descending order."
      ],
      "metadata": {
        "id": "LhKbvrKBpOXF"
      }
    },
    {
      "cell_type": "code",
      "execution_count": 1,
      "metadata": {
        "colab": {
          "base_uri": "https://localhost:8080/"
        },
        "id": "SiRL9Q2bYdYj",
        "outputId": "af5e7098-5a29-494b-87ba-f4495ed276c8"
      },
      "outputs": [
        {
          "output_type": "stream",
          "name": "stdout",
          "text": [
            "Descending order: [300, 200, 80, 70, 60, 50, 40, 20]\n"
          ]
        }
      ],
      "source": [
        "L = [10, 20, 30, 40, 50, 60, 70, 80]\n",
        "L.append(200)\n",
        "L.append(300)\n",
        "L.remove(10)\n",
        "L.remove(30)\n",
        "L.sort(reverse=True)\n",
        "print(\"Descending order:\", L)"
      ]
    },
    {
      "cell_type": "markdown",
      "source": [
        "2. Create a tuple of marks scored as scores = (45, 89.5, 76, 45.4, 89, 92, 58, 45) and\n",
        "perform the following operations using tuple functions:\n",
        "\n",
        "i. Identify the highest score and its index in the tuple.\n",
        "\n",
        "ii. Find the lowest score and count how many times it appears.\n",
        "\n",
        "\n",
        "iii. Reverse the tuple and return it as a list.\n",
        "iv. Check if a specific score ‘76’ (input by the user) is present in the tuple and\n",
        "\n",
        "print its first occurrence index, or a message saying it’s not present."
      ],
      "metadata": {
        "id": "DtiXI93epVar"
      }
    },
    {
      "cell_type": "code",
      "source": [
        "scores = (45, 89.5, 76, 45.4, 89, 92, 58, 45)\n",
        "\n",
        "\n",
        "max_score = max(scores)\n",
        "print(\"Highest score:\", max_score)\n",
        "print(\"Index of highest score:\", scores.index(max_score))\n",
        "\n",
        "min_score = min(scores)\n",
        "print(\"Lowest score:\", min_score)\n",
        "print(\"Count of lowest score:\", scores.count(min_score))\n",
        "\n",
        "reversed_list = list(scores[::-1])\n",
        "print(\"Reversed tuple as list:\", reversed_list)\n",
        "\n",
        "user_score = 76\n",
        "if user_score in scores:\n",
        "    print(f\"{user_score} found at index:\", scores.index(user_score))\n",
        "else:\n",
        "    print(f\"{user_score} is not present in the scores.\")\n"
      ],
      "metadata": {
        "id": "4ngsKk_Qe9x3",
        "colab": {
          "base_uri": "https://localhost:8080/"
        },
        "outputId": "74de878b-78c4-491b-864e-4b7b4b9c0c3d"
      },
      "execution_count": 2,
      "outputs": [
        {
          "output_type": "stream",
          "name": "stdout",
          "text": [
            "Highest score: 92\n",
            "Index of highest score: 5\n",
            "Lowest score: 45\n",
            "Count of lowest score: 2\n",
            "Reversed tuple as list: [45, 58, 92, 89, 45.4, 76, 89.5, 45]\n",
            "76 found at index: 2\n"
          ]
        }
      ]
    },
    {
      "cell_type": "markdown",
      "source": [
        "3. WAP to create a list of 100 random numbers between 100 and 900. Count and print\n",
        "the:\n",
        "\n",
        "i. All odd numbers\n",
        "\n",
        "ii. All even numbers\n",
        "\n",
        "iii. All prime numbers"
      ],
      "metadata": {
        "id": "HaVMXJLBpt6z"
      }
    },
    {
      "cell_type": "code",
      "source": [
        "import random\n",
        "\n",
        "\n",
        "random_numbers = [random.randint(100, 900) for _ in range(100)]\n",
        "\n",
        "\n",
        "odd_numbers = [n for n in random_numbers if n % 2 != 0]\n",
        "even_numbers = [n for n in random_numbers if n % 2 == 0]\n",
        "\n",
        "def is_prime(n):\n",
        "    if n < 2:\n",
        "        return False\n",
        "    for i in range(2, int(n**0.5)+1):\n",
        "        if n % i == 0:\n",
        "            return False\n",
        "    return True\n",
        "\n",
        "prime_numbers = [n for n in random_numbers if is_prime(n)]\n",
        "\n",
        "print(\"Odd numbers:\", odd_numbers)\n",
        "print(\"Even numbers:\", even_numbers)\n",
        "print(\"Prime numbers:\", prime_numbers)\n"
      ],
      "metadata": {
        "colab": {
          "base_uri": "https://localhost:8080/"
        },
        "id": "NN-oygm_pxIi",
        "outputId": "ffe042f2-c5d8-49b7-85c3-d19607ba81eb"
      },
      "execution_count": 3,
      "outputs": [
        {
          "output_type": "stream",
          "name": "stdout",
          "text": [
            "Odd numbers: [141, 327, 803, 149, 157, 359, 281, 291, 389, 807, 107, 677, 721, 613, 161, 335, 165, 235, 855, 761, 191, 763, 651, 157, 841, 691, 753, 719, 599, 751, 553, 607, 637, 545, 669, 739, 629, 493, 603, 363, 269, 803, 181, 643, 629, 517, 295, 367, 179]\n",
            "Even numbers: [402, 134, 600, 438, 484, 404, 484, 724, 480, 882, 756, 816, 864, 244, 592, 134, 154, 806, 126, 784, 174, 136, 608, 188, 738, 138, 274, 676, 762, 824, 442, 648, 166, 608, 602, 668, 156, 630, 198, 652, 304, 206, 110, 432, 250, 370, 200, 382, 182, 170, 430]\n",
            "Prime numbers: [149, 157, 359, 281, 389, 107, 677, 613, 761, 191, 157, 691, 719, 599, 751, 607, 739, 269, 181, 643, 367, 179]\n"
          ]
        }
      ]
    },
    {
      "cell_type": "markdown",
      "source": [
        "4. Consider the following two sets, A and B, represenƟng scores of two teams in mulƟple\n",
        "matches. A = {34, 56, 78, 90} and B = {78, 45, 90, 23}\n",
        "WAP to perform the following operaƟons using set funcƟons:\n",
        "\n",
        "i. Find the unique scores achieved by both teams (union of sets).\n",
        "\n",
        "ii. IdenƟfy the scores that are common to both teams (intersecƟon of sets).\n",
        "\n",
        "iii. Find the scores that are exclusive to each team (symmetric difference).\n",
        "\n",
        "iv. Check if the scores of team A are a subset of team B, and if team B's scores are\n",
        "a superset of team A.\n",
        "\n",
        "v. Remove a specific score X (input by the user) from set A if it exists. If not, print\n",
        "a message saying it is not present."
      ],
      "metadata": {
        "id": "aE75O5yhp5xK"
      }
    },
    {
      "cell_type": "code",
      "source": [
        "A = {34, 56, 78, 90}\n",
        "B = {78, 45, 90, 23}\n",
        "\n",
        "\n",
        "print(\"Union:\", A | B)\n",
        "\n",
        "\n",
        "print(\"Intersection:\", A & B)\n",
        "\n",
        "print(\"Symmetric Difference:\", A ^ B)\n",
        "\n",
        "print(\"Is A subset of B?\", A.issubset(B))\n",
        "print(\"Is B superset of A?\", B.issuperset(A))\n",
        "\n",
        "X = int(input(\"Enter a score to remove from A: \"))\n",
        "if X in A:\n",
        "    A.remove(X)\n",
        "    print(f\"{X} removed. New set A:\", A)\n",
        "else:\n",
        "    print(f\"{X} is not present in set A.\")\n"
      ],
      "metadata": {
        "colab": {
          "base_uri": "https://localhost:8080/"
        },
        "id": "ellUxqkQp9zL",
        "outputId": "77d41500-9a55-4888-f999-cb62a10d4939"
      },
      "execution_count": 4,
      "outputs": [
        {
          "output_type": "stream",
          "name": "stdout",
          "text": [
            "Union: {34, 45, 78, 23, 56, 90}\n",
            "Intersection: {90, 78}\n",
            "Symmetric Difference: {34, 45, 23, 56}\n",
            "Is A subset of B? False\n",
            "Is B superset of A? False\n",
            "Enter a score to remove from A: 78\n",
            "78 removed. New set A: {56, 34, 90}\n"
          ]
        }
      ]
    },
    {
      "cell_type": "markdown",
      "source": [
        "5. Write a program to rename a key city to a locaƟon in the following dicƟonary."
      ],
      "metadata": {
        "id": "e2PTED55qNQ6"
      }
    },
    {
      "cell_type": "code",
      "source": [
        "# Original dictionary\n",
        "city_dict = {'city': 'New York', 'country': 'USA'}\n",
        "\n",
        "# Rename key 'city' to 'location'\n",
        "city_dict['location'] = city_dict.pop('city')\n",
        "print(\"Updated dictionary:\", city_dict)\n"
      ],
      "metadata": {
        "colab": {
          "base_uri": "https://localhost:8080/"
        },
        "id": "FnwB-Ru2qGHa",
        "outputId": "ad910be4-fea6-482b-c61d-e91b1eb0c5ce"
      },
      "execution_count": 5,
      "outputs": [
        {
          "output_type": "stream",
          "name": "stdout",
          "text": [
            "Updated dictionary: {'country': 'USA', 'location': 'New York'}\n"
          ]
        }
      ]
    }
  ]
}