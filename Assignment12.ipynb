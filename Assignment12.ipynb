{
  "nbformat": 4,
  "nbformat_minor": 0,
  "metadata": {
    "colab": {
      "provenance": [],
      "authorship_tag": "ABX9TyMtofnGIFtGcGhHQmwND51q",
      "include_colab_link": true
    },
    "kernelspec": {
      "name": "python3",
      "display_name": "Python 3"
    },
    "language_info": {
      "name": "python"
    }
  },
  "cells": [
    {
      "cell_type": "markdown",
      "metadata": {
        "id": "view-in-github",
        "colab_type": "text"
      },
      "source": [
        "<a href=\"https://colab.research.google.com/github/kartikeygupta547/cognitive-computing/blob/main/Assignment12.ipynb\" target=\"_parent\"><img src=\"https://colab.research.google.com/assets/colab-badge.svg\" alt=\"Open In Colab\"/></a>"
      ]
    },
    {
      "cell_type": "markdown",
      "source": [
        "1. Deploy a Cognitive Systems or Chatbot for healthcare applications.\n",
        "\n",
        "Use the following conversation-\n",
        "\n",
        "'Hi',\n",
        "\n",
        "'Hello! I am HealthBot. How can I assist you today?',\n",
        "\n",
        "'Hello',\n",
        "\n",
        "'Hi! Do you have a health-related question?',\n",
        "\n",
        "'I have a headache',\n",
        "\n",
        "'You should rest, stay hydrated, and take a mild pain reliever if needed.',\n",
        "\n",
        "'What should I do if I have a fever?',\n",
        "\n",
        "'Drink plenty of fluids and rest. If the fever persists, please consult a doctor.',\n",
        "\n",
        "'I feel dizzy',\n",
        "\n",
        "'Sit down, breathe deeply, and drink water. If it continues, seek medical help.',\n",
        "\n",
        "'What should I eat for a cold?',\n",
        "\n",
        "'Warm fluids, soups, citrus fruits, and light meals help during a cold.',\n",
        "\n",
        "'How to stay healthy?',\n",
        "\n",
        "'Eat balanced meals, exercise regularly, stay hydrated, and get enough sleep.',\n",
        "\n",
        "'What should I do in case of a cut?',\n",
        "\n",
        "'Clean the wound with water, apply antiseptic, and cover it with a clean bandage.',\n",
        "\n",
        "'How much water should I drink daily?',\n",
        "\n",
        "'Generally, 2 to 3 liters per day is recommended, but it varies based on your\n",
        "activity.',\n",
        "\n",
        "'Thank you',\n",
        "\n",
        "'You’re welcome! Take care.',\n",
        "\n",
        "'Bye',\n",
        "\n",
        "'Goodbye! Stay healthy.'"
      ],
      "metadata": {
        "id": "jzMuVKUO0EKr"
      }
    },
    {
      "cell_type": "code",
      "execution_count": null,
      "metadata": {
        "colab": {
          "base_uri": "https://localhost:8080/"
        },
        "id": "av8a7IWXzzWd",
        "outputId": "4e6d32f3-551a-4641-8881-4f3b987d5841"
      },
      "outputs": [
        {
          "output_type": "stream",
          "name": "stderr",
          "text": [
            "[nltk_data] Downloading package punkt to /root/nltk_data...\n",
            "[nltk_data]   Package punkt is already up-to-date!\n"
          ]
        },
        {
          "output_type": "stream",
          "name": "stdout",
          "text": [
            "HealthBot: Hello! I am HealthBot. How can I assist you today?\n",
            "You: HI\n",
            "HealthBot: Hi! Do you have a health-related question?\n",
            "You: HEADACHE\n",
            "HealthBot: You should rest, stay hydrated, and take a mild pain reliever if needed.\n"
          ]
        }
      ],
      "source": [
        "import nltk\n",
        "from sklearn.feature_extraction.text import CountVectorizer\n",
        "from sklearn.naive_bayes import MultinomialNB\n",
        "\n",
        "nltk.download('punkt')\n",
        "\n",
        "# Training data\n",
        "training_sentences = [\n",
        "    \"hi\", \"hello\", \"hey\",\n",
        "    \"i have a headache\", \"my head hurts\",\n",
        "    \"what should i do if i have a fever\", \"i have a fever\",\n",
        "    \"i feel dizzy\", \"i am dizzy\",\n",
        "    \"what should i eat for a cold\", \"what to eat during a cold\",\n",
        "    \"how to stay healthy\", \"tips for being healthy\",\n",
        "    \"what to do in case of a cut\", \"i have a cut\",\n",
        "    \"how much water should i drink daily\", \"daily water intake\",\n",
        "    \"thank you\", \"thanks\",\n",
        "    \"bye\", \"goodbye\"\n",
        "]\n",
        "\n",
        "intent_labels = [\n",
        "    \"greeting\", \"greeting\", \"greeting\",\n",
        "    \"headache\", \"headache\",\n",
        "    \"fever\", \"fever\",\n",
        "    \"dizzy\", \"dizzy\",\n",
        "    \"cold_food\", \"cold_food\",\n",
        "    \"health_tips\", \"health_tips\",\n",
        "    \"cut\", \"cut\",\n",
        "    \"water_intake\", \"water_intake\",\n",
        "    \"thanks\", \"thanks\",\n",
        "    \"bye\", \"bye\"\n",
        "]\n",
        "\n",
        "# Responses dictionary\n",
        "responses = {\n",
        "    \"greeting\": \"Hi! Do you have a health-related question?\",\n",
        "    \"headache\": \"You should rest, stay hydrated, and take a mild pain reliever if needed.\",\n",
        "    \"fever\": \"Drink plenty of fluids and rest. If the fever persists, please consult a doctor.\",\n",
        "    \"dizzy\": \"Sit down, breathe deeply, and drink water. If it continues, seek medical help.\",\n",
        "    \"cold_food\": \"Warm fluids, soups, citrus fruits, and light meals help during a cold.\",\n",
        "    \"health_tips\": \"Eat balanced meals, exercise regularly, stay hydrated, and get enough sleep.\",\n",
        "    \"cut\": \"Clean the wound with water, apply antiseptic, and cover it with a clean bandage.\",\n",
        "    \"water_intake\": \"Generally, 2 to 3 liters per day is recommended, but it varies based on your activity.\",\n",
        "    \"thanks\": \"You’re welcome! Take care.\",\n",
        "    \"bye\": \"Goodbye! Stay healthy.\"\n",
        "}\n",
        "\n",
        "# Vectorization and model training\n",
        "vectorizer = CountVectorizer()\n",
        "X = vectorizer.fit_transform(training_sentences)\n",
        "model = MultinomialNB()\n",
        "model.fit(X, intent_labels)\n",
        "\n",
        "# Inference loop\n",
        "def cognitive_healthbot():\n",
        "    print(\"HealthBot: Hello! I am HealthBot. How can I assist you today?\")\n",
        "    while True:\n",
        "        user_input = input(\"You: \").lower()\n",
        "        if user_input.strip() == \"\":\n",
        "            continue\n",
        "        X_input = vectorizer.transform([user_input])\n",
        "        prediction = model.predict(X_input)[0]\n",
        "        print(\"HealthBot:\", responses.get(prediction, \"I'm not sure how to help with that. Please consult a doctor.\"))\n",
        "        if prediction == \"bye\":\n",
        "            break\n",
        "\n",
        "# Run the bot\n",
        "cognitive_healthbot()\n"
      ]
    }
  ]
}