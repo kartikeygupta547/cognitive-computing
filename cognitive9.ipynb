{
  "nbformat": 4,
  "nbformat_minor": 0,
  "metadata": {
    "colab": {
      "provenance": [],
      "authorship_tag": "ABX9TyNyuQcsKPCm5eKLav84Dy3S",
      "include_colab_link": true
    },
    "kernelspec": {
      "name": "python3",
      "display_name": "Python 3"
    },
    "language_info": {
      "name": "python"
    }
  },
  "cells": [
    {
      "cell_type": "markdown",
      "metadata": {
        "id": "view-in-github",
        "colab_type": "text"
      },
      "source": [
        "<a href=\"https://colab.research.google.com/github/kartikeygupta547/cognitive-computing/blob/main/cognitive9.ipynb\" target=\"_parent\"><img src=\"https://colab.research.google.com/assets/colab-badge.svg\" alt=\"Open In Colab\"/></a>"
      ]
    },
    {
      "cell_type": "markdown",
      "source": [
        "Q1. Write a unique paragraph (5-6 sentences) about your favorite topic (e.g., sports,\n",
        "technology, food, books, etc.).\n",
        "1. Convert text to lowercase and remove punctuation.\n",
        "2. Tokenize the text into words and sentences.\n",
        "3. Remove stopwords (using NLTK's stopwords list).\n",
        "4. Display word frequency distribution (excluding stopwords)."
      ],
      "metadata": {
        "id": "H14obih03R0k"
      }
    },
    {
      "cell_type": "code",
      "source": [
        "import string\n",
        "import nltk\n",
        "from nltk.tokenize import word_tokenize, sent_tokenize\n",
        "from nltk.corpus import stopwords\n",
        "from nltk.probability import FreqDist\n",
        "\n",
        "# Download the necessary NLTK data packages\n",
        "nltk.download('punkt')\n",
        "nltk.download('stopwords')\n",
        "nltk.download('punkt_tab') # Download the punkt_tab data package\n",
        "\n",
        "text=''''One of my favourite sport is cricket. Cricket originated in the 16th century, in southeast England.\n",
        "If a person starts to watch the game, i am certain that he/she will fall in love with the game'''\n",
        "lower_text = text.lower()\n",
        "print(lower_text)\n",
        "lower_text = text.translate(str.maketrans('', '', string.punctuation))\n",
        "print(lower_text)\n",
        "words = word_tokenize(text)\n",
        "print(\"word tokenization\",words)\n",
        "sentences = sent_tokenize(text)\n",
        "print(\"sentence tokenization\",sentences)\n",
        "stop_words = set(stopwords.words('english'))\n",
        "filtered_words = [word for word in words if word.casefold() not in stop_words]\n",
        "print(\"filtered words\",filtered_words)\n",
        "fdist = FreqDist(filtered_words)\n",
        "print(\"word frequency distribution\",fdist)"
      ],
      "metadata": {
        "colab": {
          "base_uri": "https://localhost:8080/"
        },
        "id": "zEx2dlxH7HYn",
        "outputId": "63dff9ce-c5c9-4a6c-da8b-b25fe77eff31"
      },
      "execution_count": 19,
      "outputs": [
        {
          "output_type": "stream",
          "name": "stdout",
          "text": [
            "'one of my favourite sport is cricket. cricket originated in the 16th century, in southeast england.\n",
            "if a person starts to watch the game, i am certain that he/she will fall in love with the game\n",
            "One of my favourite sport is cricket Cricket originated in the 16th century in southeast England\n",
            "If a person starts to watch the game i am certain that heshe will fall in love with the game\n",
            "word tokenization ['One', 'of', 'my', 'favourite', 'sport', 'is', 'cricket', 'Cricket', 'originated', 'in', 'the', '16th', 'century', 'in', 'southeast', 'England', 'If', 'a', 'person', 'starts', 'to', 'watch', 'the', 'game', 'i', 'am', 'certain', 'that', 'heshe', 'will', 'fall', 'in', 'love', 'with', 'the', 'game']\n",
            "sentence tokenization [\"'One of my favourite sport is cricket.\", 'Cricket originated in the 16th century, in southeast England.', 'If a person starts to watch the game, i am certain that he/she will fall in love with the game']\n",
            "filtered words ['One', 'favourite', 'sport', 'cricket', 'Cricket', 'originated', '16th', 'century', 'southeast', 'England', 'person', 'starts', 'watch', 'game', 'certain', 'heshe', 'fall', 'love', 'game']\n",
            "word frequency distribution <FreqDist with 18 samples and 19 outcomes>\n"
          ]
        },
        {
          "output_type": "stream",
          "name": "stderr",
          "text": [
            "[nltk_data] Downloading package punkt to /root/nltk_data...\n",
            "[nltk_data]   Package punkt is already up-to-date!\n",
            "[nltk_data] Downloading package stopwords to /root/nltk_data...\n",
            "[nltk_data]   Package stopwords is already up-to-date!\n",
            "[nltk_data] Downloading package punkt_tab to /root/nltk_data...\n",
            "[nltk_data]   Package punkt_tab is already up-to-date!\n"
          ]
        }
      ]
    },
    {
      "cell_type": "markdown",
      "source": [
        "Q2: Stemming and Lemmatization\n",
        "1. Take the tokenized words from Question 1 (after stopword removal).\n",
        "2. Apply stemming using NLTK's PorterStemmer and LancasterStemmer.\n",
        "3. Apply lemmatizayion using NLTK's WordNetLemmatizer.\n",
        "4. Compare and display results of both techniques."
      ],
      "metadata": {
        "id": "WAT77YJC9gRE"
      }
    },
    {
      "cell_type": "code",
      "source": [
        "import nltk\n",
        "from nltk.stem import PorterStemmer, LancasterStemmer\n",
        "from nltk.stem import WordNetLemmatizer\n",
        "from nltk.corpus import stopwords\n",
        "from nltk.tokenize import word_tokenize\n",
        "import string\n",
        "\n",
        "# Download necessary NLTK data files\n",
        "nltk.download('punkt')\n",
        "nltk.download('stopwords')\n",
        "nltk.download('wordnet')\n",
        "text=''''One of my favourite sport is cricket. Cricket originated in the 16th century, in southeast England.\n",
        "If a person starts to watch the game, i am certain that he/she will fall in love with the game'''\n",
        "lower_text = text.lower()\n",
        "print(lower_text)\n",
        "lower_text = text.translate(str.maketrans('', '', string.punctuation))\n",
        "print(lower_text)\n",
        "words = word_tokenize(text)\n",
        "print(\"word tokenization\",words)\n",
        "sentences = sent_tokenize(text)\n",
        "print(\"sentence tokenization\",sentences)\n",
        "stop_words = set(stopwords.words('english'))\n",
        "porter_stemmer = PorterStemmer()\n",
        "lancaster_stemmer = LancasterStemmer()\n",
        "porter_stemmed_words = [porter_stemmer.stem(word) for word in filtered_words]\n",
        "lancaster_stemmed_words = [lancaster_stemmer.stem(word) for word in filtered_words]\n",
        "lemmatizer = WordNetLemmatizer()\n",
        "lemmatized_words = [lemmatizer.lemmatize(word) for word in filtered_words]\n",
        "\n",
        "print(\"Original Words (after stopwords removal):\")\n",
        "print(filtered_words)\n",
        "\n",
        "print(\"\\nPorter Stemmed Words:\")\n",
        "print(porter_stemmed_words)\n",
        "\n",
        "print(\"\\nLancaster Stemmed Words:\")\n",
        "print(lancaster_stemmed_words)\n",
        "\n",
        "print(\"\\nLemmatized Words:\")\n",
        "print(lemmatized_words)"
      ],
      "metadata": {
        "colab": {
          "base_uri": "https://localhost:8080/"
        },
        "id": "xuqU5wx9-Kw0",
        "outputId": "8fda6682-d3c9-408c-dbd0-14987320e081"
      },
      "execution_count": 20,
      "outputs": [
        {
          "output_type": "stream",
          "name": "stderr",
          "text": [
            "[nltk_data] Downloading package punkt to /root/nltk_data...\n",
            "[nltk_data]   Package punkt is already up-to-date!\n",
            "[nltk_data] Downloading package stopwords to /root/nltk_data...\n",
            "[nltk_data]   Package stopwords is already up-to-date!\n",
            "[nltk_data] Downloading package wordnet to /root/nltk_data...\n"
          ]
        },
        {
          "output_type": "stream",
          "name": "stdout",
          "text": [
            "'one of my favourite sport is cricket. cricket originated in the 16th century, in southeast england.\n",
            "if a person starts to watch the game, i am certain that he/she will fall in love with the game\n",
            "One of my favourite sport is cricket Cricket originated in the 16th century in southeast England\n",
            "If a person starts to watch the game i am certain that heshe will fall in love with the game\n",
            "word tokenization [\"'One\", 'of', 'my', 'favourite', 'sport', 'is', 'cricket', '.', 'Cricket', 'originated', 'in', 'the', '16th', 'century', ',', 'in', 'southeast', 'England', '.', 'If', 'a', 'person', 'starts', 'to', 'watch', 'the', 'game', ',', 'i', 'am', 'certain', 'that', 'he/she', 'will', 'fall', 'in', 'love', 'with', 'the', 'game']\n",
            "sentence tokenization [\"'One of my favourite sport is cricket.\", 'Cricket originated in the 16th century, in southeast England.', 'If a person starts to watch the game, i am certain that he/she will fall in love with the game']\n",
            "Original Words (after stopwords removal):\n",
            "['One', 'favourite', 'sport', 'cricket', 'Cricket', 'originated', '16th', 'century', 'southeast', 'England', 'person', 'starts', 'watch', 'game', 'certain', 'heshe', 'fall', 'love', 'game']\n",
            "\n",
            "Porter Stemmed Words:\n",
            "['one', 'favourit', 'sport', 'cricket', 'cricket', 'origin', '16th', 'centuri', 'southeast', 'england', 'person', 'start', 'watch', 'game', 'certain', 'hesh', 'fall', 'love', 'game']\n",
            "\n",
            "Lancaster Stemmed Words:\n",
            "['on', 'favourit', 'sport', 'cricket', 'cricket', 'origin', '16th', 'century', 'southeast', 'england', 'person', 'start', 'watch', 'gam', 'certain', 'hesh', 'fal', 'lov', 'gam']\n",
            "\n",
            "Lemmatized Words:\n",
            "['One', 'favourite', 'sport', 'cricket', 'Cricket', 'originated', '16th', 'century', 'southeast', 'England', 'person', 'start', 'watch', 'game', 'certain', 'heshe', 'fall', 'love', 'game']\n"
          ]
        }
      ]
    },
    {
      "cell_type": "markdown",
      "source": [
        "Q3. Regular Expressions and Text Spliƫng\n",
        "1. Take their original text from Question 1.\n",
        "2. Use regular expressions to:\n",
        "a. Extract all words with more than 5 leƩers.\n",
        "b. Extract all numbers (if any exist in their text).\n",
        "c. Extract all capitalized words.\n",
        "3. Use text spliƫng techniques to:\n",
        "a. Split the text into words containing only alphabets (removing digits and special\n",
        "characters).\n",
        "b. Extract words starting with a vowel."
      ],
      "metadata": {
        "id": "llRRVZPP_jAb"
      }
    },
    {
      "cell_type": "code",
      "source": [
        "import re\n",
        "\n",
        "text = '''One of my favourite sport is cricket. Cricket originated in the 16th century, in southeast England.\n",
        "If a person starts to watch the game, i am certain that he/she will fall in love with the game'''\n",
        "words_more_than_5 = re.findall(r'\\b\\w{6,}\\b', text)\n",
        "print(\"Words with more than 5 letters:\", words_more_than_5)\n",
        "numbers = re.findall(r'\\d+', text)\n",
        "print(\"Numbers:\", numbers)\n",
        "capitalized_words = re.findall(r'\\b[A-Z]\\w*\\b', text)\n",
        "print(\"Capitalized words:\", capitalized_words)\n",
        "words_only_alphabets = re.findall(r'\\b[a-zA-Z]+\\b', text)\n",
        "print(\"Words containing only alphabets:\", words_only_alphabets)\n",
        "words_starting_with_vowel = re.findall(r'\\b[aeiouAEIOU]\\w*\\b', text)\n",
        "print(\"Words starting with a vowel:\", words_starting_with_vowel)"
      ],
      "metadata": {
        "colab": {
          "base_uri": "https://localhost:8080/"
        },
        "id": "zKor81N1_lij",
        "outputId": "805d0081-88ac-4439-dfcc-0378c39d8532"
      },
      "execution_count": 22,
      "outputs": [
        {
          "output_type": "stream",
          "name": "stdout",
          "text": [
            "Words with more than 5 letters: ['favourite', 'cricket', 'Cricket', 'originated', 'century', 'southeast', 'England', 'person', 'starts', 'certain']\n",
            "Numbers: ['16']\n",
            "Capitalized words: ['One', 'Cricket', 'England', 'If']\n",
            "Words containing only alphabets: ['One', 'of', 'my', 'favourite', 'sport', 'is', 'cricket', 'Cricket', 'originated', 'in', 'the', 'century', 'in', 'southeast', 'England', 'If', 'a', 'person', 'starts', 'to', 'watch', 'the', 'game', 'i', 'am', 'certain', 'that', 'he', 'she', 'will', 'fall', 'in', 'love', 'with', 'the', 'game']\n",
            "Words starting with a vowel: ['One', 'of', 'is', 'originated', 'in', 'in', 'England', 'If', 'a', 'i', 'am', 'in']\n"
          ]
        }
      ]
    },
    {
      "cell_type": "markdown",
      "source": [
        "Q4. Custom Tokenization & Regex-based Text Cleaning\n",
        "1. Take original text from Question 1.\n",
        "2. Write a custom tokenization function that:\n",
        "a. Removes punctuation and special symbols, but keeps contractions (e.g.,\n",
        "\"isn't\" should not be split into \"is\" and \"n't\").\n",
        "b. Handles hyphenated words as a single token (e.g., \"state-of-the-art\" remains\n",
        "a single token).\n",
        "c. Tokenizes numbers separately but keeps decimal numbers intact (e.g., \"3.14\"\n",
        "should remain as is).\n",
        "\n",
        "3. Use Regex Substitutions (re.sub) to:\n",
        "a. Replace email addresses with '<EMAIL>' placeholder.\n",
        "b. Replace URLs with '<URL>' placeholder.\n",
        "c. Replace phone numbers (formats: 123-456-7890 or +91 9876543210) with\n",
        "'<PHONE>' placeholder."
      ],
      "metadata": {
        "id": "j-p63ueMAXMj"
      }
    },
    {
      "cell_type": "code",
      "source": [
        "import re\n",
        "\n",
        "text = '''One of my favourite sport is cricket. Cricket originated in the 16th century, in southeast England.\n",
        "If a person starts to watch the game, i am certain that he/she will fall in love with the game'''\n",
        "\n",
        "def custom_tokenize(text):\n",
        "    text = re.sub(r\"[^\\w\\s'-]+\", \"\", text)\n",
        "\n",
        "\n",
        "    tokens = re.findall(r\"\\d+\\.\\d+|\\w+|[^\\w\\s]\", text)\n",
        "\n",
        "    return tokens\n",
        "\n",
        "tokens = custom_tokenize(text)\n",
        "print(\"Custom Tokenization:\", tokens)\n",
        "\n",
        "\n",
        "def clean_text(text):\n",
        "\n",
        "    text = re.sub(r\"[a-zA-Z0-9._%+-]+@[a-zA-Z0-9.-]+\\.[a-zA-Z]{2,}\", \"<EMAIL>\", text)\n",
        "\n",
        "\n",
        "    text = re.sub(r\"https?://(?:www\\.)?[-a-zA-Z0-9@:%._+~#=]{1,256}\\.[a-zA-Z0-9()]{1,6}\\b(?:[-a-zA-Z0-9()@:%_+.~#?&/=]*)\", \"<URL>\", text)\n",
        "\n",
        "    text = re.sub(r\"\\b(\\d{3}-\\d{3}-\\d{4}|\\+\\d{2}\\s\\d{10})\\b\", \"<PHONE>\", text)\n",
        "\n",
        "    return text\n",
        "\n",
        "cleaned_text = clean_text(text)\n",
        "print(\"Cleaned Text:\", cleaned_text)"
      ],
      "metadata": {
        "colab": {
          "base_uri": "https://localhost:8080/"
        },
        "id": "5ICYeEJSAcqi",
        "outputId": "cf899b24-ef57-4625-fa6e-c0d4385b291a"
      },
      "execution_count": 23,
      "outputs": [
        {
          "output_type": "stream",
          "name": "stdout",
          "text": [
            "Custom Tokenization: ['One', 'of', 'my', 'favourite', 'sport', 'is', 'cricket', 'Cricket', 'originated', 'in', 'the', '16th', 'century', 'in', 'southeast', 'England', 'If', 'a', 'person', 'starts', 'to', 'watch', 'the', 'game', 'i', 'am', 'certain', 'that', 'heshe', 'will', 'fall', 'in', 'love', 'with', 'the', 'game']\n",
            "Cleaned Text: One of my favourite sport is cricket. Cricket originated in the 16th century, in southeast England.\n",
            "If a person starts to watch the game, i am certain that he/she will fall in love with the game\n"
          ]
        }
      ]
    }
  ]
}